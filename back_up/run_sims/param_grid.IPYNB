{
 "cells": [
  {
   "cell_type": "code",
   "execution_count": 2,
   "metadata": {},
   "outputs": [],
   "source": [
    "import numpy as np\n",
    "\n",
    "\n"
   ]
  },
  {
   "cell_type": "code",
   "execution_count": 13,
   "metadata": {},
   "outputs": [
    {
     "name": "stdout",
     "output_type": "stream",
     "text": [
      "[ 0.5  1.   2.   3.   4.   5.   6.   7.   8.   9.  10.  11.  12.  13.\n",
      " 14.  15.  16.  17.  18.  19.  20. ]\n",
      "(21,)\n"
     ]
    }
   ],
   "source": [
    "epaisseurs = np.array([0.5])\n",
    "\n",
    "epaisseurs = np.append(epaisseurs, np.arange(1, 20+1 , 1)) \n",
    "\n",
    "\n",
    "print(epaisseurs)\n",
    "print(epaisseurs.shape)"
   ]
  },
  {
   "cell_type": "code",
   "execution_count": 14,
   "metadata": {},
   "outputs": [
    {
     "name": "stdout",
     "output_type": "stream",
     "text": [
      "[  5  15  25  35  45  55  65  75  85  95 105 115 125 135 145 155 165 175\n",
      " 185 190]\n",
      "(20,)\n"
     ]
    }
   ],
   "source": [
    "distances = np.arange(5, 190 + 1, 10)\n",
    "distances = np.append(distances, 190)\n",
    "\n",
    "print(distances)\n",
    "print(distances.shape)"
   ]
  },
  {
   "cell_type": "code",
   "execution_count": null,
   "metadata": {},
   "outputs": [],
   "source": [
    "class Materiau:\n",
    "    def __init__(self, name : str, young_modulus : float, density : float, poisson_modulus):\n",
    "        self.name = name\n",
    "        self.young_modulus = young_modulus #Mpa\n",
    "        self.density = density # Tonne/mm3 ?\n",
    "        self.poisson_modulus = poisson_modulus\n",
    "        \n",
    "\n",
    "materiaux = [\n",
    "    Materiau(\"acier\", 210000.0, 7.86e-09, 0.26), #source : script original\n",
    "    Materiau(\"cuivre\", 124000.0, 8.96e-09, 0.36), # source wikipédia\n",
    "    Materiau(\"aluminium\", 69000.0, 2.7e-09, 0.33), # source wikipédia\n",
    "    Materiau(\"titan\", 114000.0, 4.5e-09, 0.34) #source simulationmateriaux.com\n",
    "\n",
    "]"
   ]
  }
 ],
 "metadata": {
  "kernelspec": {
   "display_name": "Baseline",
   "language": "python",
   "name": "python3"
  },
  "language_info": {
   "codemirror_mode": {
    "name": "ipython",
    "version": 3
   },
   "file_extension": ".py",
   "mimetype": "text/x-python",
   "name": "python",
   "nbconvert_exporter": "python",
   "pygments_lexer": "ipython3",
   "version": "3.12.9"
  }
 },
 "nbformat": 4,
 "nbformat_minor": 2
}
