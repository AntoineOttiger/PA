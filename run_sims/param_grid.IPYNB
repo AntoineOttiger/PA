{
 "cells": [
  {
   "cell_type": "code",
   "execution_count": 2,
   "metadata": {},
   "outputs": [],
   "source": [
    "import numpy as np\n",
    "\n",
    "\n"
   ]
  },
  {
   "cell_type": "code",
   "execution_count": 24,
   "metadata": {},
   "outputs": [
    {
     "name": "stdout",
     "output_type": "stream",
     "text": [
      "[0.5, 1.0, 2.0, 3.0, 4.0, 5.0, 6.0, 7.0, 8.0, 9.0, 10.0, 11.0, 12.0, 13.0, 14.0, 15.0, 16.0, 17.0, 18.0, 19.0, 20.0]\n",
      "21\n"
     ]
    }
   ],
   "source": [
    "epaisseurs = np.array([0.5])\n",
    "epaisseurs = np.append(epaisseurs, np.arange(1, 20+1 , 1)).tolist()\n",
    "\n",
    "\n",
    "print(epaisseurs)\n",
    "print(len(epaisseurs))"
   ]
  },
  {
   "cell_type": "code",
   "execution_count": 27,
   "metadata": {},
   "outputs": [
    {
     "name": "stdout",
     "output_type": "stream",
     "text": [
      "[5, 15, 25, 35, 45, 55, 65, 75, 85, 95, 105, 115, 125, 135, 145, 155, 165, 175, 185, 190]\n",
      "20\n"
     ]
    }
   ],
   "source": [
    "distances = np.arange(5, 190 + 1, 10)\n",
    "distances = np.append(distances, 190).tolist()\n",
    "\n",
    "print(distances)\n",
    "print(len(distances))"
   ]
  },
  {
   "cell_type": "code",
   "execution_count": 20,
   "metadata": {},
   "outputs": [
    {
     "name": "stdout",
     "output_type": "stream",
     "text": [
      "acier\n"
     ]
    }
   ],
   "source": [
    "class Materiau:\n",
    "    def __init__(self, name : str, young_modulus : float, density : float, poisson_modulus):\n",
    "        self.name = name\n",
    "        self.young_modulus = young_modulus #Mpa\n",
    "        self.density = density # Tonne/mm3 ?\n",
    "        self.poisson_modulus = poisson_modulus\n",
    "    \n",
    "\n",
    "        \n",
    "\n",
    "materiaux = [\n",
    "    Materiau(\"acier\", 210000.0, 7.86e-09, 0.26), #source : script original\n",
    "    Materiau(\"cuivre\", 124000.0, 8.96e-09, 0.36), # source wikipédia\n",
    "    Materiau(\"aluminium\", 69000.0, 2.7e-09, 0.33), # source wikipédia\n",
    "    Materiau(\"titan\", 114000.0, 4.5e-09, 0.34) #source simulationmateriaux.com\n",
    "\n",
    "]\n",
    "\n",
    "print(materiaux[0].name)"
   ]
  }
 ],
 "metadata": {
  "kernelspec": {
   "display_name": "Baseline",
   "language": "python",
   "name": "python3"
  },
  "language_info": {
   "codemirror_mode": {
    "name": "ipython",
    "version": 3
   },
   "file_extension": ".py",
   "mimetype": "text/x-python",
   "name": "python",
   "nbconvert_exporter": "python",
   "pygments_lexer": "ipython3",
   "version": "3.12.9"
  }
 },
 "nbformat": 4,
 "nbformat_minor": 2
}
